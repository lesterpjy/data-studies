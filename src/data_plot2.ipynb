{
 "cells": [
  {
   "cell_type": "code",
   "execution_count": 54,
   "metadata": {},
   "outputs": [],
   "source": [
    "import csv\n",
    "import pandas as pd\n",
    "import numpy as np\n",
    "import re\n",
    "import matplotlib.pyplot as plt\n",
    "import nltk\n",
    "import itertools\n",
    "%matplotlib inline\n",
    "\n",
    "# read in previously stored csv data file\n",
    "df1 = pd.read_csv('user_data/influencer.csv',\n",
    "                 names=['i', 'name', 'tag', 'location', 'description',\n",
    "                        'url', 'followers', 'friends', 'listed',\n",
    "                        'geo', 'coordinates', 'place', 'text', 'createdate',\n",
    "                        'favorites', 'retweets', 'source', 'm'],\n",
    "                 na_values=['', 'None'], header=0)\n",
    "\n",
    "df2 = pd.read_csv('user_data/practitioner.csv',\n",
    "                 names=['i', 'name', 'tag', 'location', 'description',\n",
    "                        'url', 'followers', 'friends', 'listed',\n",
    "                        'geo', 'coordinates', 'place', 'text', 'createdate',\n",
    "                        'favorites', 'retweets', 'source', 'm'],\n",
    "                 na_values=['', 'None'], header=0)\n",
    "\n",
    "df3 = pd.read_csv('user_data/organization.csv',\n",
    "                 names=['i', 'name', 'tag', 'location', 'description',\n",
    "                        'url', 'followers', 'friends', 'listed',\n",
    "                        'geo', 'coordinates', 'place', 'text', 'createdate',\n",
    "                        'favorites', 'retweets', 'source', 'm'],\n",
    "                 na_values=['', 'None'], header=0)"
   ]
  },
  {
   "cell_type": "code",
   "execution_count": 55,
   "metadata": {},
   "outputs": [
    {
     "name": "stdout",
     "output_type": "stream",
     "text": [
      "                  i      followers       friends       listed   favorites  \\\n",
      "count  2.380000e+02     238.000000    238.000000   238.000000  238.000000   \n",
      "mean   1.199418e+18   89916.949580  15270.092437  3806.529412   41.634454   \n",
      "std    7.940634e+14   35780.776513  14906.209026  1786.843299   51.871522   \n",
      "min    1.197878e+18   58914.000000   3863.000000  1473.000000    0.000000   \n",
      "25%    1.198852e+18   59408.000000   3863.000000  2395.000000   11.250000   \n",
      "50%    1.199396e+18   81845.000000   4873.000000  5096.000000   26.500000   \n",
      "75%    1.199951e+18  140500.000000  39310.000000  5716.000000   47.750000   \n",
      "max    1.200913e+18  140500.000000  39310.000000  5716.000000  375.000000   \n",
      "\n",
      "         retweets             m  \n",
      "count  238.000000  5.200000e+01  \n",
      "mean    40.806723  1.199155e+18  \n",
      "std     40.851646  8.258451e+14  \n",
      "min      0.000000  1.196490e+18  \n",
      "25%     12.250000  1.198632e+18  \n",
      "50%     35.000000  1.199378e+18  \n",
      "75%     52.750000  1.199723e+18  \n",
      "max    242.000000  1.200379e+18  \n"
     ]
    }
   ],
   "source": [
    "# remove geo tag variables from df\n",
    "df1.drop(['geo', 'coordinates', 'place'], axis=1, inplace=True)\n",
    "\n",
    "# parse source into tuple of url and source name\n",
    "df1.source = df1.source.map(lambda s: re.search(r'.*\"(http.*)\" .*>(.*)<.*', s).groups())\n",
    "\n",
    "print(df1.describe())"
   ]
  },
  {
   "cell_type": "code",
   "execution_count": 56,
   "metadata": {},
   "outputs": [],
   "source": [
    "# get list of English stopwords\n",
    "sw = nltk.corpus.stopwords.words('english')\n",
    "# construct regex pattern\n",
    "pattern = re.compile('\\\\b({})\\\\W'.format('|'.join(sw)), re.I)\n",
    "# remove stopwords fron string and extract words to list\n",
    "df1.text = df1.text.map(lambda s: re.sub(pattern, '', s.lower())).map(lambda s: re.findall(r'\\w+', s))\n",
    "df2.text = df2.text.map(lambda s: re.sub(pattern, '', s.lower())).map(lambda s: re.findall(r'\\w+', s))\n",
    "df3.text = df3.text.map(lambda s: re.sub(pattern, '', s.lower())).map(lambda s: re.findall(r'\\w+', s))\n",
    "\n",
    "# count Frequency\n",
    "wordfreq1 = pd.Series(df1.text.apply(pd.Series).stack()).value_counts()\n",
    "wordfreq2 = pd.Series(df2.text.apply(pd.Series).stack()).value_counts()\n",
    "wordfreq3 = pd.Series(df3.text.apply(pd.Series).stack()).value_counts()"
   ]
  },
  {
   "cell_type": "code",
   "execution_count": 79,
   "metadata": {},
   "outputs": [
    {
     "name": "stdout",
     "output_type": "stream",
     "text": [
      "https           249\n",
      "co              249\n",
      "data             69\n",
      "learning         33\n",
      "machine          25\n",
      "via              25\n",
      "wnxsdqrbfm       24\n",
      "ai               23\n",
      "science          23\n",
      "help             18\n",
      "big              14\n",
      "2                12\n",
      "ethereum         11\n",
      "blockchain       11\n",
      "using            11\n",
      "4                10\n",
      "3                10\n",
      "join             10\n",
      "us               10\n",
      "intelligence      9\n",
      "r                 9\n",
      "analytics         9\n",
      "get               9\n",
      "python            9\n",
      "connect           9\n",
      "official          9\n",
      "link              8\n",
      "artificial        8\n",
      "scientist         8\n",
      "dtype: int64\n"
     ]
    }
   ],
   "source": [
    "# extract top 50\n",
    "top_1 = wordfreq1.iloc[:29]\n",
    "top_2 = wordfreq2.iloc[:29]\n",
    "top_3 = wordfreq3.iloc[:29]\n",
    "print(top_3)"
   ]
  },
  {
   "cell_type": "code",
   "execution_count": null,
   "metadata": {},
   "outputs": [],
   "source": []
  }
 ],
 "metadata": {
  "kernelspec": {
   "display_name": "Python 3",
   "language": "python",
   "name": "python3"
  },
  "language_info": {
   "codemirror_mode": {
    "name": "ipython",
    "version": 3
   },
   "file_extension": ".py",
   "mimetype": "text/x-python",
   "name": "python",
   "nbconvert_exporter": "python",
   "pygments_lexer": "ipython3",
   "version": "3.7.5"
  }
 },
 "nbformat": 4,
 "nbformat_minor": 2
}
